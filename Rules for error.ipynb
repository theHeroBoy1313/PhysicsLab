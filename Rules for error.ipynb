{
 "cells": [
  {
   "cell_type": "code",
   "execution_count": 22,
   "metadata": {},
   "outputs": [
    {
     "name": "stdout",
     "output_type": "stream",
     "text": [
      "4876\n"
     ]
    }
   ],
   "source": [
    "import numpy as np\n",
    "def rule1(a,b):\n",
    "    c=(a*b)\n",
    "    return c\n",
    "\n",
    "a=53\n",
    "b=92\n",
    "c= rule1(a,b)\n",
    "print(c)\n"
   ]
  },
  {
   "cell_type": "code",
   "execution_count": 27,
   "metadata": {},
   "outputs": [
    {
     "name": "stdout",
     "output_type": "stream",
     "text": [
      "900\n"
     ]
    }
   ],
   "source": [
    "import numpy as np\n",
    "def rule2(c,m,a,da):\n",
    "    q=(c*m*a**(m-1)*da)\n",
    "    return q\n",
    "c=2\n",
    "m=3\n",
    "a=5\n",
    "da=6\n",
    "q=rule2(c,m,a,da)\n",
    "print(q)\n"
   ]
  },
  {
   "cell_type": "code",
   "execution_count": 42,
   "metadata": {},
   "outputs": [
    {
     "name": "stdout",
     "output_type": "stream",
     "text": [
      "1.069175394377369\n"
     ]
    }
   ],
   "source": [
    "import numpy as np\n",
    "def rule4(a,da,b,db,q):\n",
    "    dq=q*(np.sqrt(np.square(n*da/a)+np.square(m*db/b)))\n",
    "    return (dq)\n",
    "q=5\n",
    "a=1.1\n",
    "da=.1\n",
    "b=3.1\n",
    "db=.3\n",
    "n=1\n",
    "m=2\n",
    "dq=rule4(a,da,b,db,q)\n",
    "print(dq)"
   ]
  },
  {
   "cell_type": "code",
   "execution_count": null,
   "metadata": {},
   "outputs": [],
   "source": []
  }
 ],
 "metadata": {
  "kernelspec": {
   "display_name": "Python 3",
   "language": "python",
   "name": "python3"
  },
  "language_info": {
   "codemirror_mode": {
    "name": "ipython",
    "version": 3
   },
   "file_extension": ".py",
   "mimetype": "text/x-python",
   "name": "python",
   "nbconvert_exporter": "python",
   "pygments_lexer": "ipython3",
   "version": "3.8.3"
  }
 },
 "nbformat": 4,
 "nbformat_minor": 4
}
