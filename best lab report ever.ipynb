{
 "cells": [
  {
   "cell_type": "markdown",
   "metadata": {},
   "source": [
    "# This is the best lab report ever!\n",
    "\n",
    "\n",
    "## Abstract\n",
    "$a= \\sqrt{c^2-b^2}$\n",
    "the Pie theorem!\n",
    "\n",
    "## introduction\n",
    "the pie theorem is used for the tastest of triangles, the ones that are always correct.\n",
    "# Data\n",
    "c=5\n",
    "b=3\n",
    "a=$\\sqrt{5^2-3^2}=4$\n",
    "# conclustion \n",
    "pie: $c^2=a^2+b^2$"
   ]
  },
  {
   "cell_type": "code",
   "execution_count": 2,
   "metadata": {},
   "outputs": [
    {
     "name": "stdout",
     "output_type": "stream",
     "text": [
      "1.104536101718726\n"
     ]
    }
   ],
   "source": [
    "#let's write rule 3\n",
    "import numpy as np\n",
    "\n",
    "def rule3(dA, dB):\n",
    "    dQ = np.sqrt(dA**2+dB**2)\n",
    "    return dQ\n",
    "\n",
    "dA = .1\n",
    "dB = 1.1\n",
    "\n",
    "errT = rule3(dA, dB)\n",
    "print (errT)"
   ]
  },
  {
   "cell_type": "code",
   "execution_count": 10,
   "metadata": {},
   "outputs": [
    {
     "name": "stdout",
     "output_type": "stream",
     "text": [
      "[ 3  6 36]\n",
      "[ 4  8 48]\n",
      "4.96655480858378\n",
      "5.0\n"
     ]
    }
   ],
   "source": [
    "#look at a few simple array vectorization examples\n",
    "\n",
    "x = np.array([1,2,12])\n",
    "y = x*3\n",
    "print (y)\n",
    "\n",
    "z = x + y\n",
    "print (z)\n",
    "\n",
    "print (np.std(x))\n",
    "print (np.average(x))"
   ]
  },
  {
   "cell_type": "markdown",
   "metadata": {},
   "source": [
    "# This is a super fun notebook"
   ]
  },
  {
   "cell_type": "markdown",
   "metadata": {},
   "source": [
    "## no really this is fun"
   ]
  },
  {
   "cell_type": "markdown",
   "metadata": {},
   "source": [
    "$\\delta Q = \\sqrt{(\\delta A)^2 + (\\delta B)^2}$"
   ]
  },
  {
   "cell_type": "markdown",
   "metadata": {},
   "source": [
    "https://wch.github.io/latexsheet/\n"
   ]
  },
  {
   "cell_type": "markdown",
   "metadata": {},
   "source": [
    " A\n",
    " # A\n",
    " ## A\n",
    " ### A\n",
    " ###### A"
   ]
  },
  {
   "cell_type": "code",
   "execution_count": null,
   "metadata": {},
   "outputs": [],
   "source": []
  }
 ],
 "metadata": {
  "kernelspec": {
   "display_name": "Python 3",
   "language": "python",
   "name": "python3"
  },
  "language_info": {
   "codemirror_mode": {
    "name": "ipython",
    "version": 3
   },
   "file_extension": ".py",
   "mimetype": "text/x-python",
   "name": "python",
   "nbconvert_exporter": "python",
   "pygments_lexer": "ipython3",
   "version": "3.8.3"
  }
 },
 "nbformat": 4,
 "nbformat_minor": 4
}
